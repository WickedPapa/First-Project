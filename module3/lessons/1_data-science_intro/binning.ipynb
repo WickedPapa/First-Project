{
 "cells": [
  {
   "metadata": {},
   "cell_type": "markdown",
   "source": "Importo librerie",
   "id": "32a668e1d75c0635"
  },
  {
   "metadata": {},
   "cell_type": "code",
   "source": [
    "import pandas as pd\n",
    "import numpy as np"
   ],
   "id": "e03ccc0502f24489",
   "outputs": [],
   "execution_count": null
  },
  {
   "metadata": {},
   "cell_type": "markdown",
   "source": "Creo dataframe contenente una colonna età con 20 valori randomici da 10 a 81\n",
   "id": "862ba8d9d5ed7c6d"
  },
  {
   "metadata": {},
   "cell_type": "code",
   "source": [
    "\n",
    "np.random.seed(42)\n",
    "df = pd.DataFrame({'eta': np.random.randint(10, 81, size=20)})\n",
    "\n",
    "df.head()"
   ],
   "id": "f6ff98bea82f882a",
   "outputs": [],
   "execution_count": null
  },
  {
   "metadata": {},
   "cell_type": "markdown",
   "source": "Decido di utilizzare il binning. Raggruppo i valori di età per categorie (Minorenne, Anziano, ecc)",
   "id": "6ff0580c29c810f0"
  },
  {
   "metadata": {},
   "cell_type": "code",
   "source": [
    "bins = [0, 18, 35, 50, 65, np.inf] #np.inf significa infinito (intervallo aperto a destra)\n",
    "labels = ['Minorenne', 'Giovane Adulto', 'Adulto', 'Mezza Età', 'Anziano']\n",
    "\n",
    "df['categoria_eta'] = pd.cut(df['eta'], bins=bins, labels=labels)\n",
    "\n",
    "print(df)"
   ],
   "id": "e1dc28180e6b2217",
   "outputs": [],
   "execution_count": null
  },
  {
   "metadata": {},
   "cell_type": "markdown",
   "source": "Utilizzo il label encoding per rendere la categoria una variabile categoriale",
   "id": "a4a40229a9678986"
  },
  {
   "metadata": {},
   "cell_type": "code",
   "source": [
    "label_encoding = {\n",
    "    'Minorenne': 0,\n",
    "    'Giovane Adulto': 1,\n",
    "    'Adulto': 2,\n",
    "    'Mezza Età': 3,\n",
    "    'Anziano': 4\n",
    "}\n",
    "#????"
   ],
   "id": "b30e4125544f4f95",
   "outputs": [],
   "execution_count": null
  }
 ],
 "metadata": {
  "kernelspec": {
   "display_name": "Python 3",
   "language": "python",
   "name": "python3"
  },
  "language_info": {
   "codemirror_mode": {
    "name": "ipython",
    "version": 2
   },
   "file_extension": ".py",
   "mimetype": "text/x-python",
   "name": "python",
   "nbconvert_exporter": "python",
   "pygments_lexer": "ipython2",
   "version": "2.7.6"
  }
 },
 "nbformat": 4,
 "nbformat_minor": 5
}
